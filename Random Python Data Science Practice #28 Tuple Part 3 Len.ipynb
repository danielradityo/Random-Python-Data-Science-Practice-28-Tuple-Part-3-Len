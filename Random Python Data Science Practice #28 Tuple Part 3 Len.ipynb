{
 "cells": [
  {
   "cell_type": "markdown",
   "metadata": {},
   "source": [
    "## Random Python Data Science Practice #28"
   ]
  },
  {
   "cell_type": "markdown",
   "metadata": {},
   "source": [
    "## Tuple Part 3 Len"
   ]
  },
  {
   "cell_type": "code",
   "execution_count": 1,
   "metadata": {},
   "outputs": [
    {
     "name": "stdout",
     "output_type": "stream",
     "text": [
      "('Car', 'Motorcycle', 'Bycycle', 'Plane', 'Ship', 'Cano', 'Train', 'Truck', 'Jet', 'Helicopter')\n",
      "('Jakarta', 'Tokyo', 'Bandung', 'New York', 'Las Vegas', 'Yogyakarta', 'Beijing')\n",
      "('Daniel', 9, 3.4, True, 'Data', 'Science', False, 6.2, 4)\n"
     ]
    }
   ],
   "source": [
    "# Create Tuple\n",
    "vehicle_tuple = ('Car', 'Motorcycle', 'Bycycle', 'Plane', 'Ship', 'Cano', 'Train', 'Truck', 'Jet', 'Helicopter') # --> Tuple use ()\n",
    "city_tuple = ('Jakarta', 'Tokyo', 'Bandung', 'New York', 'Las Vegas', 'Yogyakarta', 'Beijing')\n",
    "mix_tuple = ('Daniel', 9, 3.4, True, 'Data', 'Science', False, 6.2, 4)\n",
    "print(vehicle_tuple)\n",
    "print(city_tuple)\n",
    "print(mix_tuple)"
   ]
  },
  {
   "cell_type": "markdown",
   "metadata": {},
   "source": [
    "## Len Tuple"
   ]
  },
  {
   "cell_type": "code",
   "execution_count": 2,
   "metadata": {},
   "outputs": [
    {
     "name": "stdout",
     "output_type": "stream",
     "text": [
      "How many vehicle in the tuple? 10\n",
      "How many city in the tuple? 7\n",
      "How many datum in the tuple? 9\n"
     ]
    }
   ],
   "source": [
    "# Len is for count how many items in a tuple\n",
    "print('How many vehicle in the tuple?', len(vehicle_tuple))\n",
    "print('How many city in the tuple?', len(city_tuple))\n",
    "print('How many datum in the tuple?', len(mix_tuple))"
   ]
  },
  {
   "cell_type": "code",
   "execution_count": null,
   "metadata": {},
   "outputs": [],
   "source": []
  }
 ],
 "metadata": {
  "kernelspec": {
   "display_name": "Python 3",
   "language": "python",
   "name": "python3"
  },
  "language_info": {
   "codemirror_mode": {
    "name": "ipython",
    "version": 3
   },
   "file_extension": ".py",
   "mimetype": "text/x-python",
   "name": "python",
   "nbconvert_exporter": "python",
   "pygments_lexer": "ipython3",
   "version": "3.8.5"
  }
 },
 "nbformat": 4,
 "nbformat_minor": 4
}
